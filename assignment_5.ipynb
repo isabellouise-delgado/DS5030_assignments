{
 "cells": [
  {
   "cell_type": "markdown",
   "id": "dd21efe9",
   "metadata": {},
   "source": [
    "# Assignment 5\n",
    "### Do all four questions."
   ]
  },
  {
   "cell_type": "markdown",
   "id": "1ee9b4e8",
   "metadata": {},
   "source": [
    "**1.** Let's review some basic matrix multiplication. When you have an $M \\times N$ matrix $A$ with $M$ rows and $N$ columns, \n",
    "$$\n",
    "A= \\left[ \\begin{array}{cccc} a_{11} & a_{12} & ... & a_{1N} \\\\\n",
    "a_{21} & a_{22} & ... & a_{2N} \\\\\n",
    "\\vdots & \\vdots & ... & \\vdots \\\\\n",
    "a_{M1} & a_{M2} & ... & a_{MN} \n",
    "\\end{array} \\right],\n",
    "$$\n",
    "and you right-multiply it by a vector\n",
    "$$\n",
    "x = \\left[ \\begin{array}{c} x_1 \\\\ x_2 \\\\ \\vdots \\\\ x_N \n",
    "\\end{array} \\right],\n",
    "$$\n",
    "you get\n",
    "$$\n",
    "Ax = \\left[ \\begin{array}{c} \\sum_{i=1}^N a_{1i} x_i \\\\ \\sum_{i=1}^N a_{2i} x_i \\\\ \\vdots \\\\ \\sum_{i=1}^N a_{Mi} x_i \n",
    "\\end{array} \\right].\n",
    "$$\n",
    "This is just \"matrix row times column vector\" element-by-element, stacking the results into a new vector.\n",
    "\n",
    "For this to make sense, $N$ must be the same for the matrix and the vector, but $M$ can be different from $N$. \n",
    "\n",
    "Let's play with some NumPy to see this. First we'll define a matrix $A$:"
   ]
  },
  {
   "cell_type": "code",
   "execution_count": 108,
   "id": "33df3579",
   "metadata": {},
   "outputs": [
    {
     "data": {
      "text/plain": [
       "array([[1, 2, 3],\n",
       "       [4, 5, 6],\n",
       "       [7, 8, 9]])"
      ]
     },
     "execution_count": 108,
     "metadata": {},
     "output_type": "execute_result"
    }
   ],
   "source": [
    "import numpy as np\n",
    "\n",
    "A = np.array([ [1,2,3],\n",
    "              [4,5,6],\n",
    "              [7,8,9]])\n",
    "A"
   ]
  },
  {
   "cell_type": "markdown",
   "id": "94b1b3ac",
   "metadata": {},
   "source": [
    "a. Multiply $A$ times each of the following vectors using the @ operator. Explain which part of the $A$ matrix gets selected and explain why, using the definition of matrix multiplication. "
   ]
  },
  {
   "cell_type": "code",
   "execution_count": 109,
   "id": "5b6148d2",
   "metadata": {},
   "outputs": [
    {
     "data": {
      "text/plain": [
       "array([1, 4, 7])"
      ]
     },
     "execution_count": 109,
     "metadata": {},
     "output_type": "execute_result"
    }
   ],
   "source": [
    "e_1 = np.array([1,0,0])\n",
    "e_2 = np.array([0,1,0])\n",
    "e_3 = np.array([0,0,1])\n",
    "\n",
    "A@e_1"
   ]
  },
  {
   "cell_type": "markdown",
   "id": "8b90ee87",
   "metadata": {},
   "source": [
    "The first column gets selected because the dot product of each row of the matrix is just the 1st number. To multiply matrices you need to get the dot product of each row by multiplying the 1st element of that row with the first element/row of the e_1 array. For example the first row is 1(1) + 2(0) + 3(0) = 1. "
   ]
  },
  {
   "cell_type": "code",
   "execution_count": 110,
   "id": "e33936b1",
   "metadata": {},
   "outputs": [
    {
     "data": {
      "text/plain": [
       "array([2, 5, 8])"
      ]
     },
     "execution_count": 110,
     "metadata": {},
     "output_type": "execute_result"
    }
   ],
   "source": [
    "A@e_2"
   ]
  },
  {
   "cell_type": "markdown",
   "id": "4fb6bd7b",
   "metadata": {},
   "source": [
    "The second column gets selected, this time because the 1 in the array is the in the second row. "
   ]
  },
  {
   "cell_type": "code",
   "execution_count": 111,
   "id": "2a4c1c72",
   "metadata": {},
   "outputs": [
    {
     "data": {
      "text/plain": [
       "array([3, 6, 9])"
      ]
     },
     "execution_count": 111,
     "metadata": {},
     "output_type": "execute_result"
    }
   ],
   "source": [
    "A@e_3"
   ]
  },
  {
   "cell_type": "markdown",
   "id": "5b9fb3d1",
   "metadata": {},
   "source": [
    "The third column gets selected, this time because the 1 in the array is the in the third row. "
   ]
  },
  {
   "cell_type": "markdown",
   "id": "72a4704e",
   "metadata": {},
   "source": [
    "b. Now multiply $A$ times $u = (1,1,1)$. Explain the logic of the result with the definition of matrix multiplication."
   ]
  },
  {
   "cell_type": "code",
   "execution_count": 112,
   "id": "5bf73f9b",
   "metadata": {},
   "outputs": [
    {
     "data": {
      "text/plain": [
       "array([ 6., 15., 24.])"
      ]
     },
     "execution_count": 112,
     "metadata": {},
     "output_type": "execute_result"
    }
   ],
   "source": [
    "u = np.ones(3)\n",
    "A@u"
   ]
  },
  {
   "cell_type": "markdown",
   "id": "2d351cf8",
   "metadata": {},
   "source": [
    "This results in the sum of all the columns since each row element is multiplied by one and added with each other. "
   ]
  },
  {
   "cell_type": "markdown",
   "id": "dde75eab",
   "metadata": {},
   "source": [
    "c. Whenever a matrix has 1's on the diagonal and zeros everywhere else, we call it an **identity matrix**. What happens when you multiple $A$ times $x$ below? What happens when you multiple an identity matrix times any vector? Explain your result with the definition of matrix multiplication."
   ]
  },
  {
   "cell_type": "code",
   "execution_count": 113,
   "id": "b0d349c4",
   "metadata": {},
   "outputs": [
    {
     "data": {
      "text/plain": [
       "array([-2,  4, 11])"
      ]
     },
     "execution_count": 113,
     "metadata": {},
     "output_type": "execute_result"
    }
   ],
   "source": [
    "A = np.array([ [1,0,0],\n",
    "              [0,1,0],\n",
    "              [0,0,1]])\n",
    "x = np.array([-2,4,11])\n",
    "\n",
    "A@x\n"
   ]
  },
  {
   "cell_type": "markdown",
   "id": "a37359aa",
   "metadata": {},
   "source": [
    "Multiplying A with x gives you the same exact array as x. "
   ]
  },
  {
   "cell_type": "markdown",
   "id": "57141925",
   "metadata": {},
   "source": [
    "d. What if every row and column sum to 1, but the 1's are no longer on the diagonal? Multiple $A$ times $X$ below and explain the result. Create another matrix whose rows and columns sum to 1, but is not an identity matrix, and show how it permutes the values of $x$. "
   ]
  },
  {
   "cell_type": "code",
   "execution_count": 114,
   "id": "83a9ed11",
   "metadata": {},
   "outputs": [
    {
     "data": {
      "text/plain": [
       "array([11, -2,  4])"
      ]
     },
     "execution_count": 114,
     "metadata": {},
     "output_type": "execute_result"
    }
   ],
   "source": [
    "A = np.array([ [0,0,1],\n",
    "              [1,0,0],\n",
    "              [0,1,0]])\n",
    "x = np.array([-2,4,11])\n",
    "\n",
    "A@x\n"
   ]
  },
  {
   "cell_type": "markdown",
   "id": "6c96bb55",
   "metadata": {},
   "source": [
    "The 1s end up choosing which value shows up through the dot product. So the first element 11 shows up because it's (-2)(0) + (4)(0) + (11)(1) = 11. Then second element -2 is chosen (since the 1 is in the 1st spot), then third 4 is chosen (since 1 is in the second spot)."
   ]
  },
  {
   "cell_type": "code",
   "execution_count": 115,
   "id": "f1f68f2c",
   "metadata": {},
   "outputs": [
    {
     "data": {
      "text/plain": [
       "array([ 4, -2, 11])"
      ]
     },
     "execution_count": 115,
     "metadata": {},
     "output_type": "execute_result"
    }
   ],
   "source": [
    "B = np.array([[0, 1, 0],\n",
    "              [1, 0, 0],\n",
    "              [0, 0, 1]])\n",
    "\n",
    "B@x"
   ]
  },
  {
   "cell_type": "markdown",
   "id": "9782535c",
   "metadata": {},
   "source": [
    "Second element gets picked for the 1st row, 1st element gets picked for the 2nd row, 3rd element gets picked for the third row."
   ]
  },
  {
   "cell_type": "markdown",
   "id": "611c26c3",
   "metadata": {},
   "source": [
    "e. The next matrix $A$ could be a Markov transition matrix: Its columns sum to 1, and each entry $a_{ij}$ can be interpreted as the proportion of observations who moved from state $j$ to state $i$. Multiply $A$ by each of the vectors $e_1$, $e_2$, and $e_3$, and explain your results."
   ]
  },
  {
   "cell_type": "code",
   "execution_count": 116,
   "id": "aff4fb97",
   "metadata": {},
   "outputs": [
    {
     "name": "stdout",
     "output_type": "stream",
     "text": [
      "[[0.50052958 0.24049286 0.18358131]\n",
      " [0.02574731 0.39251588 0.37907577]\n",
      " [0.47372311 0.36699127 0.43734292]]\n"
     ]
    }
   ],
   "source": [
    "rng = np.random.default_rng(100)\n",
    "A = rng.random((3,3)) # Generate a random 3X3 matrix\n",
    "sums = np.sum(A,axis=0) # Column sums\n",
    "A = A/sums # Normalize the columns so they sum to 1\n",
    "print(A)"
   ]
  },
  {
   "cell_type": "code",
   "execution_count": 117,
   "id": "92de574c",
   "metadata": {},
   "outputs": [
    {
     "name": "stdout",
     "output_type": "stream",
     "text": [
      "[0.50052958 0.02574731 0.47372311]\n"
     ]
    }
   ],
   "source": [
    "print(A@e_1)"
   ]
  },
  {
   "cell_type": "markdown",
   "id": "07338ada",
   "metadata": {},
   "source": [
    "This is selecting the first column like in the previous problem. "
   ]
  },
  {
   "cell_type": "code",
   "execution_count": 118,
   "id": "e6b15e0e",
   "metadata": {},
   "outputs": [
    {
     "name": "stdout",
     "output_type": "stream",
     "text": [
      "[0.24049286 0.39251588 0.36699127]\n"
     ]
    }
   ],
   "source": [
    "print(A@e_2)"
   ]
  },
  {
   "cell_type": "markdown",
   "id": "eb9797b0",
   "metadata": {},
   "source": [
    "This is selecting the second column."
   ]
  },
  {
   "cell_type": "code",
   "execution_count": 119,
   "id": "cca649aa",
   "metadata": {},
   "outputs": [
    {
     "name": "stdout",
     "output_type": "stream",
     "text": [
      "[0.18358131 0.37907577 0.43734292]\n"
     ]
    }
   ],
   "source": [
    "print(A@e_3)"
   ]
  },
  {
   "cell_type": "markdown",
   "id": "8ce4c888",
   "metadata": {},
   "source": [
    "This is selcting the third column."
   ]
  },
  {
   "cell_type": "markdown",
   "id": "0647bfa7",
   "metadata": {},
   "source": [
    "f. For each of the vectors $e_1, e_2, e_3$, multiple $A$ times that vector 5 times. What answer do you get for each starting vector? Describe the behavior you observe."
   ]
  },
  {
   "cell_type": "code",
   "execution_count": 120,
   "id": "9caeeea3",
   "metadata": {},
   "outputs": [
    {
     "data": {
      "text/plain": [
       "array([0.29266551, 0.27862515, 0.42870935])"
      ]
     },
     "execution_count": 120,
     "metadata": {},
     "output_type": "execute_result"
    }
   ],
   "source": [
    "def vector_mult(A, v):\n",
    "    for i in range(0,5):\n",
    "        v = A@v\n",
    "    return v\n",
    "\n",
    "vector_mult(A, e_1)"
   ]
  },
  {
   "cell_type": "code",
   "execution_count": 121,
   "id": "1da10c2d",
   "metadata": {},
   "outputs": [
    {
     "data": {
      "text/plain": [
       "array([0.29197422, 0.27979983, 0.42822595])"
      ]
     },
     "execution_count": 121,
     "metadata": {},
     "output_type": "execute_result"
    }
   ],
   "source": [
    "vector_mult(A, e_2)"
   ]
  },
  {
   "cell_type": "code",
   "execution_count": 122,
   "id": "60908401",
   "metadata": {},
   "outputs": [
    {
     "data": {
      "text/plain": [
       "array([0.29171646, 0.2802254 , 0.42805814])"
      ]
     },
     "execution_count": 122,
     "metadata": {},
     "output_type": "execute_result"
    }
   ],
   "source": [
    "vector_mult(A, e_3)"
   ]
  },
  {
   "cell_type": "markdown",
   "id": "ecd30d41",
   "metadata": {},
   "source": [
    "When you multiply A with each vector 5 times, the array gives numbers that are very similar to each other. This means that it is turning into a more standard distrubution."
   ]
  },
  {
   "cell_type": "markdown",
   "id": "fa2c9a93",
   "metadata": {},
   "source": [
    "*2.* Let's consider a simple Markov transition matrix over two states:\n",
    "$$\n",
    "T = \\left[ \\begin{array}{cc} p_{1\\leftarrow 1} &  p_{1\\leftarrow 2} \\\\\n",
    "p_{2 \\leftarrow 1} & p_{2 \\leftarrow 2} \\end{array}\\right] \n",
    "$$\n",
    "The arrows help visualize the transition a bit: This is the same index notation as usual, $p_{ij}$, but writing it $p_{i \\leftarrow j}$ emphasizes that it's the proportion of times that state $j$ transitions to state $i$. Below, $T$ is given by\n",
    "$$\n",
    "T = \\left[ \\begin{array}{cc} .25 & .5 \\\\\n",
    ".75 & .5 \\end{array}\\right].\n",
    "$$\n",
    "\n",
    "- Start in state 1, at the initial condition $[1,0]$. Multiply that vector by $T$. Write out the result in terms of the formula and compute the result in a code chunk below. What is this object you're looking at, in terms of proportions and transitions?\n",
    "- Multiple by $T$ again. What do you get? This isn't a column of $T$. Explain in words what it is. (Hint: A forecast of what in what period?)\n",
    "- Keep multiplying the current vector of outcomes by $T$. When does it start to settle down without changing further?\n",
    "- Do the above analysis again, starting from the initial condition $[0,1]$. Do you get a different result?\n",
    "- The take-away is that, in the long run, these chains settle down into the long-run proportions, and the sensitivity on initial conditions vanishes. \n"
   ]
  },
  {
   "cell_type": "markdown",
   "id": "1fe3c09c",
   "metadata": {},
   "source": [
    "First row: 0.25(1) + 0.5(0) = 0.25\n",
    "Second row: 0.75(1) + 0.5(0) = 0.75\n",
    "\n",
    "array = [0.25, 0.75]"
   ]
  },
  {
   "cell_type": "code",
   "execution_count": 123,
   "id": "4b6a775f",
   "metadata": {},
   "outputs": [
    {
     "data": {
      "text/plain": [
       "array([0.25, 0.75])"
      ]
     },
     "execution_count": 123,
     "metadata": {},
     "output_type": "execute_result"
    }
   ],
   "source": [
    "T = np.array([[ 1/4, 1/2],\n",
    "                 [ 3/4, 1/2 ]])\n",
    "\n",
    "init_condition  = np.array([1,0])\n",
    "\n",
    "p_1 = T @ init_condition\n",
    "p_1"
   ]
  },
  {
   "cell_type": "markdown",
   "id": "d2132901",
   "metadata": {},
   "source": [
    "This array is showing that after 1 transition there is a 25% chance of being in state 1 and a 75% of being in state 2."
   ]
  },
  {
   "cell_type": "code",
   "execution_count": 124,
   "id": "ede42f06",
   "metadata": {},
   "outputs": [
    {
     "data": {
      "text/plain": [
       "array([0.4375, 0.5625])"
      ]
     },
     "execution_count": 124,
     "metadata": {},
     "output_type": "execute_result"
    }
   ],
   "source": [
    "p_2 = T @ p_1\n",
    "p_2"
   ]
  },
  {
   "cell_type": "markdown",
   "id": "cde86088",
   "metadata": {},
   "source": [
    "The array is showing that after 2 transitions there is a 43.75% chance of being in state 1 and a 56.25% chance is being in state 2. It's a forecast of states 2 time periods from now. "
   ]
  },
  {
   "cell_type": "code",
   "execution_count": 125,
   "id": "2b575657",
   "metadata": {},
   "outputs": [
    {
     "name": "stdout",
     "output_type": "stream",
     "text": [
      "1: [0.25 0.75]\n",
      "2: [0.4375 0.5625]\n",
      "3: [0.390625 0.609375]\n",
      "4: [0.40234375 0.59765625]\n",
      "5: [0.39941406 0.60058594]\n",
      "6: [0.40014648 0.59985352]\n",
      "7: [0.39996338 0.60003662]\n",
      "8: [0.40000916 0.59999084]\n",
      "9: [0.39999771 0.60000229]\n",
      "10: [0.40000057 0.59999943]\n",
      "11: [0.39999986 0.60000014]\n",
      "12: [0.40000004 0.59999996]\n",
      "13: [0.39999999 0.60000001]\n",
      "14: [0.4 0.6]\n",
      "15: [0.4 0.6]\n",
      "16: [0.4 0.6]\n",
      "17: [0.4 0.6]\n",
      "18: [0.4 0.6]\n",
      "19: [0.4 0.6]\n",
      "20: [0.4 0.6]\n"
     ]
    }
   ],
   "source": [
    "n = 20\n",
    "p = np.array([1,0])\n",
    "\n",
    "for i in range(n):\n",
    "    p = T @ p\n",
    "    print(f\"{i+1}: {p}\")"
   ]
  },
  {
   "cell_type": "markdown",
   "id": "780ea947",
   "metadata": {},
   "source": [
    "It starts settling down after the 5th or 6th transition."
   ]
  },
  {
   "cell_type": "code",
   "execution_count": 126,
   "id": "276a5758",
   "metadata": {},
   "outputs": [
    {
     "name": "stdout",
     "output_type": "stream",
     "text": [
      "1: [0.5 0.5]\n",
      "2: [0.375 0.625]\n",
      "3: [0.40625 0.59375]\n",
      "4: [0.3984375 0.6015625]\n",
      "5: [0.40039062 0.59960938]\n",
      "6: [0.39990234 0.60009766]\n",
      "7: [0.40002441 0.59997559]\n",
      "8: [0.3999939 0.6000061]\n",
      "9: [0.40000153 0.59999847]\n",
      "10: [0.39999962 0.60000038]\n",
      "11: [0.4000001 0.5999999]\n",
      "12: [0.39999998 0.60000002]\n",
      "13: [0.40000001 0.59999999]\n",
      "14: [0.4 0.6]\n",
      "15: [0.4 0.6]\n",
      "16: [0.4 0.6]\n",
      "17: [0.4 0.6]\n",
      "18: [0.4 0.6]\n",
      "19: [0.4 0.6]\n",
      "20: [0.4 0.6]\n"
     ]
    }
   ],
   "source": [
    "n = 20\n",
    "p = np.array([0,1])\n",
    "\n",
    "for i in range(n):\n",
    "    p = T @ p\n",
    "    print(f\"{i+1}: {p}\")"
   ]
  },
  {
   "cell_type": "markdown",
   "id": "f35dd32b",
   "metadata": {},
   "source": [
    "It starts off differently in the first and second transitions but it gets to the same 40% chance state 1 and 60% chance state 2 pattern."
   ]
  },
  {
   "cell_type": "markdown",
   "id": "921592e9",
   "metadata": {},
   "source": [
    "3. Weather data\n",
    "\n",
    "- Load the `cville_weather.csv` data. This includes data from Jan 4, 2024 to Feb 2, 2025. Are there any missing data issues?\n",
    "- Based on the precipitation variable, `PRCP`, make a new variable called `rain` that takes the value 1 if `PRCP`>0 and 0 otherwise.\n",
    "- Build a two-state Markov chain over the states 0 and 1 for the `rain` variable. \n",
    "- For your chain from c, how likely is it to rain if it was rainy yesterday? How likely is it to rain if it was clear yesterday?\n",
    "- Starting from a clear day, forecast the distribution. How quickly does it converge to a fixed result? What if you start from a rainy day?\n",
    "- Conditional on being rainy, plot a KDE of the `PRCP` variable.\n",
    "- Describe one way of making your model better for forecasting and simulation the weather.\n",
    "\n",
    "Congratulations, you now are a non-parametric meteorologist!"
   ]
  },
  {
   "cell_type": "code",
   "execution_count": null,
   "id": "9239fb70",
   "metadata": {},
   "outputs": [
    {
     "data": {
      "text/plain": [
       "np.int64(399)"
      ]
     },
     "execution_count": 163,
     "metadata": {},
     "output_type": "execute_result"
    }
   ],
   "source": [
    "import pandas as pd\n",
    "\n",
    "weather = pd.read_csv('cville_weather.csv')"
   ]
  },
  {
   "cell_type": "code",
   "execution_count": 169,
   "id": "8d1534d0",
   "metadata": {},
   "outputs": [
    {
     "data": {
      "text/plain": [
       "STATION              0\n",
       "NAME                 0\n",
       "DATE                 0\n",
       "DAPR               399\n",
       "DAPR_ATTRIBUTES    399\n",
       "MDPR               399\n",
       "MDPR_ATTRIBUTES    399\n",
       "PRCP                12\n",
       "PRCP_ATTRIBUTES     12\n",
       "SNOW               188\n",
       "SNOW_ATTRIBUTES    188\n",
       "SNWD               410\n",
       "SNWD_ATTRIBUTES    410\n",
       "dtype: int64"
      ]
     },
     "execution_count": 169,
     "metadata": {},
     "output_type": "execute_result"
    }
   ],
   "source": [
    "weather.isna().sum()"
   ]
  },
  {
   "cell_type": "markdown",
   "id": "dddae8d1",
   "metadata": {},
   "source": [
    "12 rows have missing PRCP data"
   ]
  },
  {
   "cell_type": "code",
   "execution_count": 180,
   "id": "d661713e",
   "metadata": {},
   "outputs": [
    {
     "data": {
      "text/plain": [
       "0      1\n",
       "1      1\n",
       "2      1\n",
       "3      1\n",
       "4      0\n",
       "      ..\n",
       "406    0\n",
       "407    0\n",
       "408    0\n",
       "409    0\n",
       "410    0\n",
       "Name: rain, Length: 411, dtype: int64"
      ]
     },
     "execution_count": 180,
     "metadata": {},
     "output_type": "execute_result"
    }
   ],
   "source": [
    "weather['rain'] = [1 if x > 0 else 0 for x in weather['PRCP']]\n",
    "weather['rain']"
   ]
  },
  {
   "cell_type": "code",
   "execution_count": 128,
   "id": "737f9f30",
   "metadata": {},
   "outputs": [
    {
     "name": "stdout",
     "output_type": "stream",
     "text": [
      "Transition Counts:\n",
      " [[169.  63.]\n",
      " [ 62. 116.]]\n",
      "\n",
      "State Counts: \n",
      " [[232.]\n",
      " [178.]]\n",
      "\n",
      "State proportions: \n",
      " [[0.56585366]\n",
      " [0.43414634]]\n",
      "\n",
      "Transition matrix T:\n",
      " [[0.73160173 0.35195531]\n",
      " [0.26839827 0.64804469]]\n"
     ]
    }
   ],
   "source": [
    "S = 2\n",
    "tr_counts = np.zeros( (S, S) )\n",
    "\n",
    "seq = weather['rain'].to_numpy()\n",
    "\n",
    "for t in range(1,len(seq)):\n",
    "        x_tm1 = seq[t-1] # previous state\n",
    "        x_t = seq[t] # current state\n",
    "        tr_counts[x_t, x_tm1] += 1\n",
    "\n",
    "print('Transition Counts:\\n', tr_counts)\n",
    "\n",
    "# Sum the transition counts by row:\n",
    "sums = tr_counts.sum(axis=1, keepdims=True)\n",
    "print(f'\\nState Counts: \\n {sums}')\n",
    "\n",
    "# Sum the transition counts by row:\n",
    "print(f'\\nState proportions: \\n {sums/np.sum(sums)}')\n",
    "\n",
    "# Normalize the transition count matrix to get proportions:\n",
    "tr_pr = np.divide(tr_counts, sums, \n",
    "                            out=np.zeros_like(tr_counts), \n",
    "                            where= sums!=0)\n",
    "\n",
    "col_sums = tr_counts.sum(axis=0, keepdims=True)\n",
    "T = np.divide(tr_counts, col_sums, out=np.zeros_like(tr_counts), where=col_sums!=0)\n",
    "\n",
    "print(f'\\nTransition matrix T:\\n', T)"
   ]
  },
  {
   "cell_type": "code",
   "execution_count": 129,
   "id": "886635c8",
   "metadata": {},
   "outputs": [
    {
     "data": {
      "text/plain": [
       "array([0.73160173, 0.26839827])"
      ]
     },
     "execution_count": 129,
     "metadata": {},
     "output_type": "execute_result"
    }
   ],
   "source": [
    "clear_day = np.array([1,0])\n",
    "rainy_day = np.array([0,1])\n",
    "\n",
    "T @ clear_day"
   ]
  },
  {
   "cell_type": "markdown",
   "id": "6fe616ff",
   "metadata": {},
   "source": [
    "There is a 26.84% chance that it's going to rain if it's a clear day yesterday."
   ]
  },
  {
   "cell_type": "code",
   "execution_count": 130,
   "id": "e0280a42",
   "metadata": {},
   "outputs": [
    {
     "data": {
      "text/plain": [
       "array([0.35195531, 0.64804469])"
      ]
     },
     "execution_count": 130,
     "metadata": {},
     "output_type": "execute_result"
    }
   ],
   "source": [
    "T @ rainy_day"
   ]
  },
  {
   "cell_type": "markdown",
   "id": "fd179f3b",
   "metadata": {},
   "source": [
    "There is a 64.80% chance that it's going to rain if it was a rainy day yesterday."
   ]
  },
  {
   "cell_type": "code",
   "execution_count": 131,
   "id": "f64cc5fb",
   "metadata": {},
   "outputs": [
    {
     "name": "stdout",
     "output_type": "stream",
     "text": [
      "1: [0.73160173 0.26839827]\n",
      "2: [0.62970529 0.37029471]\n",
      "3: [0.59102067 0.40897933]\n",
      "4: [0.57633419 0.42366581]\n",
      "5: [0.57075852 0.42924148]\n",
      "6: [0.56864174 0.43135826]\n",
      "7: [0.56783811 0.43216189]\n",
      "8: [0.56753302 0.43246698]\n",
      "9: [0.56741719 0.43258281]\n",
      "10: [0.56737321 0.43262679]\n",
      "11: [0.56735652 0.43264348]\n",
      "12: [0.56735018 0.43264982]\n",
      "13: [0.56734777 0.43265223]\n",
      "14: [0.56734686 0.43265314]\n"
     ]
    }
   ],
   "source": [
    "n = 14\n",
    "\n",
    "for i in range(n):\n",
    "    clear_day = T @ clear_day\n",
    "    print(f\"{i+1}: {clear_day}\")"
   ]
  },
  {
   "cell_type": "markdown",
   "id": "ab8b9a39",
   "metadata": {},
   "source": [
    "It takes about 7 days for it to converge to a fixed result when we start with a clear day."
   ]
  },
  {
   "cell_type": "code",
   "execution_count": 132,
   "id": "41427f25",
   "metadata": {},
   "outputs": [
    {
     "name": "stdout",
     "output_type": "stream",
     "text": [
      "1: [0.35195531 0.64804469]\n",
      "2: [0.48557388 0.51442612]\n",
      "3: [0.5363017 0.4636983]\n",
      "4: [0.55556033 0.44443967]\n",
      "5: [0.5628718 0.4371282]\n",
      "6: [0.56564757 0.43435243]\n",
      "7: [0.56670139 0.43329861]\n",
      "8: [0.56710146 0.43289854]\n",
      "9: [0.56725335 0.43274665]\n",
      "10: [0.56731101 0.43268899]\n",
      "11: [0.5673329 0.4326671]\n",
      "12: [0.56734122 0.43265878]\n",
      "13: [0.56734437 0.43265563]\n",
      "14: [0.56734557 0.43265443]\n"
     ]
    }
   ],
   "source": [
    "n = 14\n",
    "\n",
    "for i in range(n):\n",
    "    rainy_day = T @ rainy_day\n",
    "    print(f\"{i+1}: {rainy_day}\")"
   ]
  },
  {
   "cell_type": "markdown",
   "id": "bdc67e6a",
   "metadata": {},
   "source": [
    "It takes about 8 days for it to converge to a fixed result when we start with a rainy day."
   ]
  },
  {
   "cell_type": "code",
   "execution_count": 145,
   "id": "70fba62b",
   "metadata": {},
   "outputs": [],
   "source": [
    "import seaborn as sns"
   ]
  },
  {
   "cell_type": "code",
   "execution_count": 144,
   "id": "2d3d471b",
   "metadata": {},
   "outputs": [
    {
     "data": {
      "text/plain": [
       "<Axes: xlabel='PRCP', ylabel='Density'>"
      ]
     },
     "execution_count": 144,
     "metadata": {},
     "output_type": "execute_result"
    },
    {
     "data": {
      "image/png": "[encoded data removed]",
      "text/plain": [
       "<Figure size 640x480 with 1 Axes>"
      ]
     },
     "metadata": {},
     "output_type": "display_data"
    }
   ],
   "source": [
    "rainy_kde = weather.loc[weather['rain'] == 1, 'PRCP']\n",
    "sns.kdeplot(rainy_kde)"
   ]
  },
  {
   "cell_type": "markdown",
   "id": "a0b8496f",
   "metadata": {},
   "source": [
    "We can improve the model by making more types of days like drizzling, light rain, heavy rain. This would increase the state space, making the transition matrix more accurate."
   ]
  },
  {
   "cell_type": "markdown",
   "id": "b953c2c4",
   "metadata": {},
   "source": [
    "4. Taxicab trajectories: Using the pickled taxicab data, we want to complete the exercise from class.\n",
    "\n",
    "- For the taxicab trajectory data, determine your state space and clean your sequences of cab rides.\n",
    "- Compute the transition matrix for the taxicab data between neighborhoods in Manhattan. Plot it in a heat map. What are the most common routes?\n",
    "- Explain why taxicabs are most likely order 1, and not 2 or more.\n",
    "- Starting at Hell's Kitchen, create a sequence of forecasts of where the cab is likely to be in 2, 3, 5, and 10 trips\n",
    "- Starting at any neighborhood, iterate your forecast until it is no longer changing very much. Where do cabs spend most of their time working in Manhattan?"
   ]
  },
  {
   "cell_type": "code",
   "execution_count": 133,
   "id": "e5d34fcd",
   "metadata": {},
   "outputs": [],
   "source": [
    "import numpy as np\n",
    "import pandas as pd\n",
    "import seaborn as sns\n",
    "import matplotlib.pyplot as plt\n",
    "import pickle"
   ]
  },
  {
   "cell_type": "code",
   "execution_count": 134,
   "id": "cf18f64e",
   "metadata": {},
   "outputs": [
    {
     "name": "stdout",
     "output_type": "stream",
     "text": [
      "1000\n"
     ]
    },
    {
     "data": {
      "text/plain": [
       "0     Outside Manhattan\n",
       "0     Outside Manhattan\n",
       "0     Outside Manhattan\n",
       "0     Outside Manhattan\n",
       "0     Outside Manhattan\n",
       "            ...        \n",
       "29                 SoHo\n",
       "29                 SoHo\n",
       "13    Greenwich Village\n",
       "3               Chelsea\n",
       "3               Chelsea\n",
       "Name: nbhd, Length: 26026, dtype: object"
      ]
     },
     "execution_count": 134,
     "metadata": {},
     "output_type": "execute_result"
    }
   ],
   "source": [
    "with open('taxicab.pkl','rb') as f:\n",
    "    data = pickle.load(f)\n",
    "\n",
    "print(len(data))\n",
    "data[0]"
   ]
  },
  {
   "cell_type": "code",
   "execution_count": 135,
   "id": "b1f9098d",
   "metadata": {},
   "outputs": [
    {
     "name": "stdout",
     "output_type": "stream",
     "text": [
      "Transition Counts:\n",
      " [[1.39800e+04 5.17700e+03 1.13200e+03 ... 0.00000e+00 0.00000e+00\n",
      "  1.41000e+02]\n",
      " [6.44800e+03 1.38632e+05 4.19800e+03 ... 0.00000e+00 0.00000e+00\n",
      "  5.50000e+02]\n",
      " [2.99500e+03 2.48600e+03 3.91800e+03 ... 0.00000e+00 0.00000e+00\n",
      "  3.80000e+01]\n",
      " ...\n",
      " [4.00000e+00 3.00000e+00 1.00000e+00 ... 1.60000e+01 0.00000e+00\n",
      "  8.00000e+00]\n",
      " [2.00000e+00 0.00000e+00 0.00000e+00 ... 0.00000e+00 2.00000e+00\n",
      "  0.00000e+00]\n",
      " [1.71000e+02 6.18000e+02 5.20000e+01 ... 4.90000e+01 0.00000e+00\n",
      "  3.23970e+04]]\n"
     ]
    }
   ],
   "source": [
    "## Extract state space\n",
    "states = set(data[0])\n",
    "for i in range(1,len(data)):\n",
    "    trip_i = set(data[i])\n",
    "    states = states.union(trip_i)\n",
    "states = list(states)\n",
    "\n",
    "## Compute transition counts:\n",
    "S = len(states)\n",
    "tr_counts = np.zeros( (S, S) )\n",
    "\n",
    "# Fix the transition counting (around line where you have the nested loops):\n",
    "for trip in data:\n",
    "    seq = np.array(trip)\n",
    "    for t in range(1,len(seq)):\n",
    "        # Current and next tokens:\n",
    "        x_tm1 = seq[t-1] # previous state\n",
    "        x_t = seq[t] # current state\n",
    "        # Determine transition indices:\n",
    "        index_from = states.index(x_tm1)\n",
    "        index_to = states.index(x_t) #in our state space, where do these indices occur\n",
    "        # Update transition counts:\n",
    "        tr_counts[index_to, index_from] += 1\n",
    "\n",
    "print('Transition Counts:\\n', tr_counts)"
   ]
  },
  {
   "cell_type": "code",
   "execution_count": 181,
   "id": "668074c4",
   "metadata": {},
   "outputs": [
    {
     "name": "stdout",
     "output_type": "stream",
     "text": [
      "State proportions: \n",
      "\n",
      "[[1.058700e+05 5.505930e+05 3.859100e+04 3.168450e+05 1.224335e+06\n",
      "  1.743200e+05 5.102590e+05 1.000000e+00 5.791000e+04 3.603000e+03\n",
      "  5.017520e+05 3.705730e+05 1.038800e+04 3.701250e+05 2.171460e+05\n",
      "  1.431100e+04 8.886410e+05 1.112820e+05 2.363902e+06 1.063810e+05\n",
      "  1.803502e+06 2.797710e+06 7.252200e+04 6.544000e+05 8.393600e+05\n",
      "  3.000000e+00 4.415730e+05 3.952900e+05 3.851989e+06 2.292350e+05\n",
      "  1.978286e+06 8.010000e+03 4.086350e+05 8.740570e+05 5.077810e+05\n",
      "  4.930000e+02 1.200000e+01 1.627100e+05]]\n"
     ]
    }
   ],
   "source": [
    "# Sum the transitioin counts by row:\n",
    "sums = tr_counts.sum(axis=0, keepdims=True)\n",
    "print('State proportions: \\n')\n",
    "print(sums)\n",
    "\n",
    "# Normalize the transition count matrix to get proportions:\n",
    "tr_pr = np.divide(tr_counts, sums, \n",
    "                             out=np.zeros_like(tr_counts), \n",
    "                             where=sums!=0)"
   ]
  },
  {
   "cell_type": "code",
   "execution_count": 182,
   "id": "a9d791b4",
   "metadata": {},
   "outputs": [
    {
     "name": "stdout",
     "output_type": "stream",
     "text": [
      "Transition Proportions:\n",
      "\n",
      "                     Chinatown  SoHo  Little Italy  East Harlem  \\\n",
      "Chinatown                 0.13  0.01          0.03         0.00   \n",
      "SoHo                      0.06  0.25          0.11         0.00   \n",
      "Little Italy              0.03  0.00          0.10         0.00   \n",
      "East Harlem               0.00  0.00          0.00         0.23   \n",
      "Hell's Kitchen            0.02  0.02          0.03         0.02   \n",
      "NoHo                      0.02  0.02          0.03         0.00   \n",
      "Greenwich Village         0.02  0.05          0.03         0.00   \n",
      "Liberty Island            0.00  0.00          0.00         0.00   \n",
      "Civic Center              0.02  0.01          0.01         0.00   \n",
      "Randall's Island          0.00  0.00          0.00         0.00   \n",
      "Gramercy                  0.02  0.02          0.02         0.01   \n",
      "Lower East Side           0.10  0.02          0.04         0.00   \n",
      "Two Bridges               0.00  0.00          0.00         0.00   \n",
      "Central Park              0.00  0.00          0.00         0.06   \n",
      "Harlem                    0.00  0.00          0.00         0.04   \n",
      "Inwood                    0.00  0.00          0.00         0.00   \n",
      "East Village              0.08  0.05          0.06         0.01   \n",
      "Stuyvesant Town           0.01  0.00          0.00         0.00   \n",
      "Outside Manhattan         0.11  0.07          0.08         0.06   \n",
      "Nolita                    0.02  0.02          0.08         0.00   \n",
      "Upper West Side           0.01  0.02          0.02         0.09   \n",
      "Upper East Side           0.02  0.03          0.03         0.28   \n",
      "Washington Heights        0.00  0.00          0.00         0.01   \n",
      "Murray Hill               0.01  0.02          0.02         0.01   \n",
      "West Village              0.03  0.09          0.04         0.01   \n",
      "Ellis Island              0.00  0.00          0.00         0.00   \n",
      "Financial District        0.06  0.03          0.03         0.00   \n",
      "Flatiron District         0.01  0.02          0.01         0.00   \n",
      "Midtown                   0.06  0.08          0.08         0.10   \n",
      "Battery Park City         0.01  0.02          0.01         0.00   \n",
      "Chelsea                   0.05  0.09          0.06         0.02   \n",
      "Roosevelt Island          0.00  0.00          0.00         0.00   \n",
      "Tribeca                   0.05  0.04          0.02         0.00   \n",
      "Theater District          0.02  0.02          0.03         0.01   \n",
      "Kips Bay                  0.02  0.01          0.01         0.01   \n",
      "Marble Hill               0.00  0.00          0.00         0.00   \n",
      "Governors Island          0.00  0.00          0.00         0.00   \n",
      "Morningside Heights       0.00  0.00          0.00         0.01   \n",
      "\n",
      "                     Hell's Kitchen  NoHo  Greenwich Village  Liberty Island  \\\n",
      "Chinatown                      0.00  0.01               0.01             0.0   \n",
      "SoHo                           0.01  0.05               0.05             0.0   \n",
      "Little Italy                   0.00  0.00               0.00             0.0   \n",
      "East Harlem                    0.01  0.00               0.00             0.0   \n",
      "Hell's Kitchen                 0.28  0.02               0.02             0.0   \n",
      "NoHo                           0.00  0.14               0.03             0.0   \n",
      "Greenwich Village              0.01  0.06               0.22             0.0   \n",
      "Liberty Island                 0.00  0.00               0.00             0.0   \n",
      "Civic Center                   0.00  0.00               0.00             0.0   \n",
      "Randall's Island               0.00  0.00               0.00             0.0   \n",
      "Gramercy                       0.01  0.05               0.03             1.0   \n",
      "Lower East Side                0.01  0.02               0.02             0.0   \n",
      "Two Bridges                    0.00  0.00               0.00             0.0   \n",
      "Central Park                   0.01  0.00               0.00             0.0   \n",
      "Harlem                         0.01  0.00               0.00             0.0   \n",
      "Inwood                         0.00  0.00               0.00             0.0   \n",
      "East Village                   0.01  0.12               0.07             0.0   \n",
      "Stuyvesant Town                0.00  0.01               0.01             0.0   \n",
      "Outside Manhattan              0.05  0.08               0.06             0.0   \n",
      "Nolita                         0.00  0.01               0.01             0.0   \n",
      "Upper West Side                0.10  0.02               0.02             0.0   \n",
      "Upper East Side                0.05  0.04               0.03             0.0   \n",
      "Washington Heights             0.00  0.00               0.00             0.0   \n",
      "Murray Hill                    0.01  0.03               0.02             0.0   \n",
      "West Village                   0.03  0.05               0.08             0.0   \n",
      "Ellis Island                   0.00  0.00               0.00             0.0   \n",
      "Financial District             0.01  0.02               0.02             0.0   \n",
      "Flatiron District              0.01  0.02               0.02             0.0   \n",
      "Midtown                        0.15  0.09               0.08             0.0   \n",
      "Battery Park City              0.01  0.01               0.01             0.0   \n",
      "Chelsea                        0.11  0.08               0.11             0.0   \n",
      "Roosevelt Island               0.00  0.00               0.00             0.0   \n",
      "Tribeca                        0.01  0.02               0.02             0.0   \n",
      "Theater District               0.08  0.01               0.02             0.0   \n",
      "Kips Bay                       0.01  0.03               0.02             0.0   \n",
      "Marble Hill                    0.00  0.00               0.00             0.0   \n",
      "Governors Island               0.00  0.00               0.00             0.0   \n",
      "Morningside Heights            0.00  0.00               0.00             0.0   \n",
      "\n",
      "                     Civic Center  Randall's Island  ...  Midtown  \\\n",
      "Chinatown                    0.03              0.00  ...     0.00   \n",
      "SoHo                         0.07              0.00  ...     0.01   \n",
      "Little Italy                 0.01              0.00  ...     0.00   \n",
      "East Harlem                  0.00              0.17  ...     0.01   \n",
      "Hell's Kitchen               0.02              0.01  ...     0.05   \n",
      "NoHo                         0.01              0.00  ...     0.00   \n",
      "Greenwich Village            0.02              0.00  ...     0.01   \n",
      "Liberty Island               0.00              0.00  ...     0.00   \n",
      "Civic Center                 0.09              0.00  ...     0.00   \n",
      "Randall's Island             0.00              0.18  ...     0.00   \n",
      "Gramercy                     0.01              0.00  ...     0.02   \n",
      "Lower East Side              0.04              0.00  ...     0.01   \n",
      "Two Bridges                  0.00              0.00  ...     0.00   \n",
      "Central Park                 0.00              0.02  ...     0.01   \n",
      "Harlem                       0.00              0.02  ...     0.00   \n",
      "Inwood                       0.00              0.00  ...     0.00   \n",
      "East Village                 0.04              0.01  ...     0.02   \n",
      "Stuyvesant Town              0.00              0.00  ...     0.00   \n",
      "Outside Manhattan            0.09              0.17  ...     0.06   \n",
      "Nolita                       0.01              0.00  ...     0.00   \n",
      "Upper West Side              0.01              0.06  ...     0.05   \n",
      "Upper East Side              0.03              0.22  ...     0.13   \n",
      "Washington Heights           0.00              0.00  ...     0.00   \n",
      "Murray Hill                  0.02              0.01  ...     0.04   \n",
      "West Village                 0.04              0.01  ...     0.02   \n",
      "Ellis Island                 0.00              0.00  ...     0.00   \n",
      "Financial District           0.11              0.00  ...     0.01   \n",
      "Flatiron District            0.01              0.00  ...     0.02   \n",
      "Midtown                      0.07              0.06  ...     0.36   \n",
      "Battery Park City            0.02              0.00  ...     0.00   \n",
      "Chelsea                      0.05              0.01  ...     0.07   \n",
      "Roosevelt Island             0.00              0.00  ...     0.00   \n",
      "Tribeca                      0.14              0.00  ...     0.01   \n",
      "Theater District             0.02              0.01  ...     0.05   \n",
      "Kips Bay                     0.01              0.00  ...     0.02   \n",
      "Marble Hill                  0.00              0.00  ...     0.00   \n",
      "Governors Island             0.00              0.00  ...     0.00   \n",
      "Morningside Heights          0.00              0.01  ...     0.00   \n",
      "\n",
      "                     Battery Park City  Chelsea  Roosevelt Island  Tribeca  \\\n",
      "Chinatown                         0.01     0.00              0.00     0.01   \n",
      "SoHo                              0.05     0.02              0.01     0.09   \n",
      "Little Italy                      0.00     0.00              0.00     0.00   \n",
      "East Harlem                       0.00     0.00              0.01     0.00   \n",
      "Hell's Kitchen                    0.03     0.07              0.02     0.03   \n",
      "NoHo                              0.00     0.01              0.00     0.01   \n",
      "Greenwich Village                 0.02     0.03              0.01     0.03   \n",
      "Liberty Island                    0.00     0.00              0.00     0.00   \n",
      "Civic Center                      0.00     0.00              0.00     0.01   \n",
      "Randall's Island                  0.00     0.00              0.00     0.00   \n",
      "Gramercy                          0.01     0.02              0.01     0.01   \n",
      "Lower East Side                   0.01     0.01              0.01     0.02   \n",
      "Two Bridges                       0.00     0.00              0.00     0.00   \n",
      "Central Park                      0.00     0.01              0.01     0.00   \n",
      "Harlem                            0.00     0.00              0.00     0.00   \n",
      "Inwood                            0.00     0.00              0.00     0.00   \n",
      "East Village                      0.02     0.03              0.02     0.03   \n",
      "Stuyvesant Town                   0.00     0.00              0.00     0.00   \n",
      "Outside Manhattan                 0.05     0.05              0.28     0.07   \n",
      "Nolita                            0.00     0.00              0.00     0.01   \n",
      "Upper West Side                   0.02     0.03              0.02     0.02   \n",
      "Upper East Side                   0.02     0.04              0.19     0.03   \n",
      "Washington Heights                0.00     0.00              0.00     0.00   \n",
      "Murray Hill                       0.01     0.02              0.02     0.01   \n",
      "West Village                      0.06     0.06              0.01     0.08   \n",
      "Ellis Island                      0.00     0.00              0.00     0.00   \n",
      "Financial District                0.09     0.01              0.01     0.05   \n",
      "Flatiron District                 0.01     0.03              0.01     0.01   \n",
      "Midtown                           0.07     0.13              0.15     0.07   \n",
      "Battery Park City                 0.26     0.01              0.00     0.05   \n",
      "Chelsea                           0.07     0.33              0.03     0.08   \n",
      "Roosevelt Island                  0.00     0.00              0.12     0.00   \n",
      "Tribeca                           0.12     0.01              0.01     0.25   \n",
      "Theater District                  0.02     0.04              0.02     0.02   \n",
      "Kips Bay                          0.01     0.02              0.02     0.01   \n",
      "Marble Hill                       0.00     0.00              0.00     0.00   \n",
      "Governors Island                  0.00     0.00              0.00     0.00   \n",
      "Morningside Heights               0.00     0.00              0.00     0.00   \n",
      "\n",
      "                     Theater District  Kips Bay  Marble Hill  \\\n",
      "Chinatown                        0.00      0.00         0.00   \n",
      "SoHo                             0.01      0.01         0.00   \n",
      "Little Italy                     0.00      0.00         0.00   \n",
      "East Harlem                      0.01      0.01         0.03   \n",
      "Hell's Kitchen                   0.12      0.02         0.08   \n",
      "NoHo                             0.00      0.01         0.00   \n",
      "Greenwich Village                0.01      0.02         0.00   \n",
      "Liberty Island                   0.00      0.00         0.00   \n",
      "Civic Center                     0.00      0.00         0.00   \n",
      "Randall's Island                 0.00      0.00         0.00   \n",
      "Gramercy                         0.01      0.05         0.00   \n",
      "Lower East Side                  0.00      0.02         0.01   \n",
      "Two Bridges                      0.00      0.00         0.00   \n",
      "Central Park                     0.02      0.00         0.01   \n",
      "Harlem                           0.01      0.00         0.06   \n",
      "Inwood                           0.00      0.00         0.10   \n",
      "East Village                     0.01      0.06         0.00   \n",
      "Stuyvesant Town                  0.00      0.01         0.00   \n",
      "Outside Manhattan                0.07      0.05         0.11   \n",
      "Nolita                           0.00      0.00         0.00   \n",
      "Upper West Side                  0.07      0.02         0.14   \n",
      "Upper East Side                  0.06      0.07         0.08   \n",
      "Washington Heights               0.00      0.00         0.07   \n",
      "Murray Hill                      0.02      0.09         0.01   \n",
      "West Village                     0.02      0.02         0.02   \n",
      "Ellis Island                     0.00      0.00         0.00   \n",
      "Financial District               0.01      0.01         0.00   \n",
      "Flatiron District                0.01      0.03         0.00   \n",
      "Midtown                          0.21      0.19         0.07   \n",
      "Battery Park City                0.01      0.00         0.00   \n",
      "Chelsea                          0.09      0.07         0.03   \n",
      "Roosevelt Island                 0.00      0.00         0.00   \n",
      "Tribeca                          0.01      0.01         0.00   \n",
      "Theater District                 0.21      0.02         0.02   \n",
      "Kips Bay                         0.01      0.19         0.01   \n",
      "Marble Hill                      0.00      0.00         0.03   \n",
      "Governors Island                 0.00      0.00         0.00   \n",
      "Morningside Heights              0.00      0.00         0.10   \n",
      "\n",
      "                     Governors Island  Morningside Heights  \n",
      "Chinatown                        0.00                 0.00  \n",
      "SoHo                             0.00                 0.00  \n",
      "Little Italy                     0.00                 0.00  \n",
      "East Harlem                      0.00                 0.03  \n",
      "Hell's Kitchen                   0.00                 0.04  \n",
      "NoHo                             0.00                 0.00  \n",
      "Greenwich Village                0.00                 0.00  \n",
      "Liberty Island                   0.00                 0.00  \n",
      "Civic Center                     0.00                 0.00  \n",
      "Randall's Island                 0.00                 0.00  \n",
      "Gramercy                         0.08                 0.00  \n",
      "Lower East Side                  0.00                 0.00  \n",
      "Two Bridges                      0.00                 0.00  \n",
      "Central Park                     0.00                 0.02  \n",
      "Harlem                           0.00                 0.06  \n",
      "Inwood                           0.00                 0.00  \n",
      "East Village                     0.08                 0.01  \n",
      "Stuyvesant Town                  0.08                 0.00  \n",
      "Outside Manhattan                0.33                 0.04  \n",
      "Nolita                           0.00                 0.00  \n",
      "Upper West Side                  0.00                 0.35  \n",
      "Upper East Side                  0.00                 0.08  \n",
      "Washington Heights               0.00                 0.02  \n",
      "Murray Hill                      0.00                 0.00  \n",
      "West Village                     0.00                 0.01  \n",
      "Ellis Island                     0.00                 0.00  \n",
      "Financial District               0.08                 0.00  \n",
      "Flatiron District                0.00                 0.00  \n",
      "Midtown                          0.00                 0.06  \n",
      "Battery Park City                0.00                 0.00  \n",
      "Chelsea                          0.17                 0.03  \n",
      "Roosevelt Island                 0.00                 0.00  \n",
      "Tribeca                          0.00                 0.00  \n",
      "Theater District                 0.00                 0.02  \n",
      "Kips Bay                         0.00                 0.00  \n",
      "Marble Hill                      0.00                 0.00  \n",
      "Governors Island                 0.17                 0.00  \n",
      "Morningside Heights              0.00                 0.20  \n",
      "\n",
      "[38 rows x 38 columns]\n"
     ]
    },
    {
     "data": {
      "image/png": "[encoded data removed]",
      "text/plain": [
       "<Figure size 1200x1000 with 2 Axes>"
      ]
     },
     "metadata": {},
     "output_type": "display_data"
    }
   ],
   "source": [
    "print('Transition Proportions:\\n')\n",
    "\n",
    "tr_df = pd.DataFrame(np.round(tr_pr,2), index=states, columns=states)\n",
    "print(tr_df)\n",
    "\n",
    "plt.figure(figsize=(12, 10))\n",
    "sns.heatmap(tr_pr, \n",
    "            cmap='Blues',    \n",
    "            square=True,          \n",
    "            xticklabels=states,\n",
    "            yticklabels=states,\n",
    "            cbar_kws={'label': 'Transition Probability'})\n",
    "\n",
    "plt.title('Transition Probabilities')\n",
    "plt.xlabel('...To State')\n",
    "plt.ylabel('From State...')\n",
    "plt.xticks(rotation=90)\n",
    "plt.yticks(rotation=0)\n",
    "plt.show()"
   ]
  },
  {
   "cell_type": "markdown",
   "id": "aa487a9f",
   "metadata": {},
   "source": [
    "Common routes - Gramercy to Liberty Island, Outside Manhattan to Outside Manhattan, Upper East Side to Upper West Side, Upper West Side to Nolita."
   ]
  },
  {
   "cell_type": "markdown",
   "id": "5fb4dfb0",
   "metadata": {},
   "source": [
    "Taxi cab routes are order 1 because the dependence is about the passenger and not the cab. It doesn't matter where the cab was before picking up the passenger."
   ]
  },
  {
   "cell_type": "code",
   "execution_count": 211,
   "id": "158e7431",
   "metadata": {},
   "outputs": [
    {
     "name": "stdout",
     "output_type": "stream",
     "text": [
      "Hell's Kitchen\n"
     ]
    }
   ],
   "source": [
    "initial_state = \"Hell's Kitchen\"\n",
    "state_index = states.index(initial_state) # Get the index of the initial state\n",
    "\n",
    "##Initial density:\n",
    "density = np.zeros(len(states))\n",
    "density[state_index] = 1\n",
    "\n",
    "for k in range(2):\n",
    "    density_next = tr_pr @ density\n",
    "\n",
    "max_idx = np.argmax(density_next)\n",
    "print(states[max_idx])"
   ]
  },
  {
   "cell_type": "code",
   "execution_count": 212,
   "id": "c76a6396",
   "metadata": {},
   "outputs": [
    {
     "name": "stdout",
     "output_type": "stream",
     "text": [
      "Hell's Kitchen\n"
     ]
    }
   ],
   "source": [
    "for k in range(3):\n",
    "    density_next = tr_pr @ density\n",
    "\n",
    "max_idx = np.argmax(density_next)\n",
    "print(states[max_idx])"
   ]
  },
  {
   "cell_type": "code",
   "execution_count": 209,
   "id": "32c294e4",
   "metadata": {},
   "outputs": [
    {
     "name": "stdout",
     "output_type": "stream",
     "text": [
      "Midtown\n"
     ]
    }
   ],
   "source": [
    "for k in range(5):\n",
    "    density = tr_pr @ density\n",
    "\n",
    "max_idx = np.argmax(density)\n",
    "print(states[max_idx])"
   ]
  },
  {
   "cell_type": "code",
   "execution_count": 210,
   "id": "503b756c",
   "metadata": {},
   "outputs": [
    {
     "name": "stdout",
     "output_type": "stream",
     "text": [
      "Midtown\n"
     ]
    }
   ],
   "source": [
    "for k in range(10):\n",
    "    density = tr_pr @ density\n",
    "\n",
    "max_idx = np.argmax(density)\n",
    "print(states[max_idx])"
   ]
  }
 ],
 "metadata": {
  "kernelspec": {
   "display_name": "ds5030",
   "language": "python",
   "name": "python3"
  },
  "language_info": {
   "codemirror_mode": {
    "name": "ipython",
    "version": 3
   },
   "file_extension": ".py",
   "mimetype": "text/x-python",
   "name": "python",
   "nbconvert_exporter": "python",
   "pygments_lexer": "ipython3",
   "version": "3.13.5"
  }
 },
 "nbformat": 4,
 "nbformat_minor": 5
}
